{
  "cells": [
    {
      "cell_type": "code",
      "source": [
        "!pip install gym==0.23.1\n",
        "!pip install numpy==1.24.2\n",
        "!pip install torch==1.12.0\n",
        "!pip install matplotlib==3.2.2"
      ],
      "metadata": {
        "id": "RtXuM-x4f88O"
      },
      "execution_count": null,
      "outputs": []
    },
    {
      "cell_type": "code",
      "source": [
        "import gym\n",
        "import numpy as np\n",
        "import torch\n",
        "import torch.nn as nn\n",
        "import torch.optim as optim\n",
        "import torch.nn.functional as F\n",
        "import random\n",
        "import matplotlib.pyplot as plt\n",
        "from collections import namedtuple, deque"
      ],
      "metadata": {
        "id": "AlFw0kX1oojZ"
      },
      "execution_count": 18,
      "outputs": []
    },
    {
      "cell_type": "code",
      "source": [
        "device = torch.device(\"cuda\" if torch.cuda.is_available() else \"cpu\")\n",
        "print(f\"Using device: {device}\")"
      ],
      "metadata": {
        "colab": {
          "base_uri": "https://localhost:8080/"
        },
        "id": "lM_3J0SvoquO",
        "outputId": "63d608b6-5a1a-44bf-a014-fb77ab0b813c"
      },
      "execution_count": 19,
      "outputs": [
        {
          "output_type": "stream",
          "name": "stdout",
          "text": [
            "Using device: cuda\n"
          ]
        }
      ]
    },
    {
      "cell_type": "code",
      "source": [
        "class QNetwork(nn.Module):\n",
        "    def __init__(self, state_size, action_size, seed, fc1_units=64, fc2_units=64):\n",
        "        super(QNetwork, self).__init__()\n",
        "        self.seed = torch.manual_seed(seed)\n",
        "        self.fc1 = nn.Linear(state_size, fc1_units)\n",
        "        self.fc2 = nn.Linear(fc1_units, fc2_units)\n",
        "        self.fc3 = nn.Linear(fc2_units, action_size)\n",
        "        self.to(device)\n",
        "\n",
        "    def forward(self, state):\n",
        "        x = F.relu(self.fc1(state))\n",
        "        x = F.relu(self.fc2(x))\n",
        "        return self.fc3(x)\n",
        "\n",
        "class ReplayBuffer:\n",
        "    def __init__(self, action_size, buffer_size, batch_size, seed):\n",
        "        self.action_size = action_size\n",
        "        self.memory = deque(maxlen=buffer_size)\n",
        "        self.batch_size = batch_size\n",
        "        self.experience = namedtuple(\"Experience\", field_names=[\"state\", \"action\", \"reward\", \"next_state\", \"done\"])\n",
        "        self.seed = random.seed(seed)\n",
        "\n",
        "    def add(self, state, action, reward, next_state, done):\n",
        "        e = self.experience(state, action, reward, next_state, done)\n",
        "        self.memory.append(e)\n",
        "\n",
        "    def sample(self):\n",
        "        experiences = random.sample(self.memory, k=self.batch_size)\n",
        "\n",
        "        states = torch.from_numpy(np.vstack([e.state for e in experiences if e is not None])).float().to(device)\n",
        "        actions = torch.from_numpy(np.vstack([e.action for e in experiences if e is not None])).long().to(device)\n",
        "        rewards = torch.from_numpy(np.vstack([e.reward for e in experiences if e is not None])).float().to(device)\n",
        "        next_states = torch.from_numpy(np.vstack([e.next_state for e in experiences if e is not None])).float().to(device)\n",
        "        dones = torch.from_numpy(np.vstack([e.done for e in experiences if e is not None]).astype(np.uint8)).float().to(device)\n",
        "\n",
        "        return (states, actions, rewards, next_states, dones)\n",
        "\n",
        "    def __len__(self):\n",
        "        return len(self.memory)\n",
        "\n"
      ],
      "metadata": {
        "id": "m0WJQcVXoxvm"
      },
      "execution_count": 20,
      "outputs": []
    },
    {
      "cell_type": "code",
      "source": [
        "class DQNAgent:\n",
        "    def __init__(self, state_size, action_size, seed, lr):\n",
        "        self.state_size = state_size\n",
        "        self.action_size = action_size\n",
        "        self.seed = random.seed(seed)\n",
        "\n",
        "        self.qnetwork_local = QNetwork(state_size, action_size, seed).to(device)\n",
        "        self.qnetwork_target = QNetwork(state_size, action_size, seed).to(device)\n",
        "        self.optimizer = optim.Adam(self.qnetwork_local.parameters(), lr)\n",
        "\n",
        "        self.memory = ReplayBuffer(action_size, buffer_size=int(1e5), batch_size=64, seed=seed)\n",
        "        self.t_step = 0\n",
        "\n",
        "    def step(self, state, action, reward, next_state, done):\n",
        "        self.memory.add(state, action, reward, next_state, done)\n",
        "\n",
        "        self.t_step = (self.t_step + 1) % 4\n",
        "        if self.t_step == 0:\n",
        "            if len(self.memory) > self.memory.batch_size:\n",
        "                experiences = self.memory.sample()\n",
        "                self.learn(experiences, gamma=0.99)\n",
        "\n",
        "    def act(self, state, eps=0.):\n",
        "        state_tensor = torch.from_numpy(state).float().unsqueeze(0).to(device)\n",
        "\n",
        "        self.qnetwork_local.eval()\n",
        "        with torch.no_grad():\n",
        "            action_values = self.qnetwork_local(state_tensor)\n",
        "        self.qnetwork_local.train()\n",
        "\n",
        "        if np.random.random() > eps:\n",
        "            return action_values.argmax(dim=1).item()\n",
        "        else:\n",
        "            return np.random.randint(self.action_size)\n",
        "\n",
        "    def learn(self, experiences, gamma):\n",
        "        states, actions, rewards, next_states, dones = experiences\n",
        "\n",
        "        Q_targets_next = self.qnetwork_target(next_states).detach().max(1)[0].unsqueeze(1)\n",
        "        Q_targets = rewards + (gamma * Q_targets_next * (1 - dones))\n",
        "\n",
        "        Q_expected = self.qnetwork_local(states).gather(1, actions)\n",
        "\n",
        "        loss = F.mse_loss(Q_expected, Q_targets)\n",
        "        self.optimizer.zero_grad()\n",
        "        loss.backward()\n",
        "        self.optimizer.step()\n",
        "\n",
        "        self.soft_update(self.qnetwork_local, self.qnetwork_target, tau=1e-3)\n",
        "\n",
        "    def soft_update(self, local_model, target_model, tau):\n",
        "        for target_param, local_param in zip(target_model.parameters(), local_model.parameters()):\n",
        "            target_param.data.copy_(tau * local_param.data + (1.0 - tau) * target_param.data)"
      ],
      "metadata": {
        "id": "2MktF3YroyR3"
      },
      "execution_count": 21,
      "outputs": []
    },
    {
      "cell_type": "code",
      "source": [
        "env = gym.make(\"CartPole-v1\")\n",
        "\n",
        "# Define training parameters\n",
        "num_episodes = 1000\n",
        "max_steps_per_episode = 200\n",
        "epsilon_start = 1.0\n",
        "epsilon_end = 0.2\n",
        "epsilon_decay_rate = 0.99\n",
        "gamma = 0.995\n",
        "lr = 0.001\n",
        "buffer_size = 10000\n",
        "batch_size = 128\n",
        "update_frequency = 10\n",
        "\n",
        "input_dim = env.observation_space.shape[0]\n",
        "output_dim = env.action_space.n\n",
        "new_agent = DQNAgent(input_dim, output_dim, seed=170715, lr=lr)\n",
        "\n",
        "best_score = -np.inf\n",
        "save_path = \"best_dqn_model.pth\""
      ],
      "metadata": {
        "colab": {
          "base_uri": "https://localhost:8080/"
        },
        "id": "D5jkwc_ao_rT",
        "outputId": "ba3842b6-206d-41ef-8e6f-09eb7483c500"
      },
      "execution_count": 22,
      "outputs": [
        {
          "output_type": "stream",
          "name": "stderr",
          "text": [
            "/usr/local/lib/python3.10/dist-packages/gym/core.py:317: DeprecationWarning: \u001b[33mWARN: Initializing wrapper in old step API which returns one bool instead of two. It is recommended to set `new_step_api=True` to use new step API. This will be the default behaviour in future.\u001b[0m\n",
            "  deprecation(\n",
            "/usr/local/lib/python3.10/dist-packages/gym/wrappers/step_api_compatibility.py:39: DeprecationWarning: \u001b[33mWARN: Initializing environment in old step API which returns one bool instead of two. It is recommended to set `new_step_api=True` to use new step API. This will be the default behaviour in future.\u001b[0m\n",
            "  deprecation(\n"
          ]
        }
      ]
    },
    {
      "cell_type": "code",
      "source": [
        "for episode in range(1, num_episodes + 1):\n",
        "    state = env.reset()\n",
        "    epsilon = max(epsilon_end, epsilon_start * (epsilon_decay_rate ** episode))\n",
        "    total_reward = 0\n",
        "\n",
        "    for step in range(max_steps_per_episode):\n",
        "        action = new_agent.act(state, epsilon)\n",
        "        next_state, reward, done, _ = env.step(action)\n",
        "\n",
        "        total_reward += reward\n",
        "\n",
        "        new_agent.step(state, action, reward, next_state, done)\n",
        "\n",
        "        state = next_state\n",
        "\n",
        "        if done:\n",
        "            break\n",
        "\n",
        "    if total_reward > best_score:\n",
        "        best_score = total_reward\n",
        "        torch.save(new_agent.qnetwork_local.state_dict(), save_path)\n",
        "        print(f\"New best score {best_score} achieved at episode {episode}. Model saved!\")\n",
        "\n",
        "    if episode % update_frequency == 0:\n",
        "        print(f\"Episode {episode}/{num_episodes} - Best Score: {best_score} - Epsilon: {epsilon:.4f}\")\n",
        "\n",
        "print(\"Training completed.\")\n"
      ],
      "metadata": {
        "colab": {
          "base_uri": "https://localhost:8080/"
        },
        "id": "i1ZA_daqmDjj",
        "outputId": "5f48c2b7-1688-4dfc-a7f9-54b53efee121"
      },
      "execution_count": 23,
      "outputs": [
        {
          "output_type": "stream",
          "name": "stderr",
          "text": [
            "/usr/local/lib/python3.10/dist-packages/gym/utils/passive_env_checker.py:241: DeprecationWarning: `np.bool8` is a deprecated alias for `np.bool_`.  (Deprecated NumPy 1.24)\n",
            "  if not isinstance(terminated, (bool, np.bool8)):\n"
          ]
        },
        {
          "output_type": "stream",
          "name": "stdout",
          "text": [
            "New best score 21.0 achieved at episode 1. Model saved!\n",
            "New best score 35.0 achieved at episode 2. Model saved!\n",
            "New best score 38.0 achieved at episode 9. Model saved!\n",
            "Episode 10/1000 - Best Score: 38.0 - Epsilon: 0.9044\n",
            "New best score 40.0 achieved at episode 12. Model saved!\n",
            "Episode 20/1000 - Best Score: 40.0 - Epsilon: 0.8179\n",
            "New best score 47.0 achieved at episode 23. Model saved!\n",
            "Episode 30/1000 - Best Score: 47.0 - Epsilon: 0.7397\n",
            "Episode 40/1000 - Best Score: 47.0 - Epsilon: 0.6690\n",
            "Episode 50/1000 - Best Score: 47.0 - Epsilon: 0.6050\n",
            "New best score 53.0 achieved at episode 54. Model saved!\n",
            "Episode 60/1000 - Best Score: 53.0 - Epsilon: 0.5472\n",
            "Episode 70/1000 - Best Score: 53.0 - Epsilon: 0.4948\n",
            "Episode 80/1000 - Best Score: 53.0 - Epsilon: 0.4475\n",
            "Episode 90/1000 - Best Score: 53.0 - Epsilon: 0.4047\n",
            "Episode 100/1000 - Best Score: 53.0 - Epsilon: 0.3660\n",
            "Episode 110/1000 - Best Score: 53.0 - Epsilon: 0.3310\n",
            "Episode 120/1000 - Best Score: 53.0 - Epsilon: 0.2994\n",
            "Episode 130/1000 - Best Score: 53.0 - Epsilon: 0.2708\n",
            "Episode 140/1000 - Best Score: 53.0 - Epsilon: 0.2449\n",
            "Episode 150/1000 - Best Score: 53.0 - Epsilon: 0.2215\n",
            "Episode 160/1000 - Best Score: 53.0 - Epsilon: 0.2003\n",
            "Episode 170/1000 - Best Score: 53.0 - Epsilon: 0.2000\n",
            "Episode 180/1000 - Best Score: 53.0 - Epsilon: 0.2000\n",
            "Episode 190/1000 - Best Score: 53.0 - Epsilon: 0.2000\n",
            "Episode 200/1000 - Best Score: 53.0 - Epsilon: 0.2000\n",
            "Episode 210/1000 - Best Score: 53.0 - Epsilon: 0.2000\n",
            "Episode 220/1000 - Best Score: 53.0 - Epsilon: 0.2000\n",
            "Episode 230/1000 - Best Score: 53.0 - Epsilon: 0.2000\n",
            "Episode 240/1000 - Best Score: 53.0 - Epsilon: 0.2000\n",
            "Episode 250/1000 - Best Score: 53.0 - Epsilon: 0.2000\n",
            "Episode 260/1000 - Best Score: 53.0 - Epsilon: 0.2000\n",
            "Episode 270/1000 - Best Score: 53.0 - Epsilon: 0.2000\n",
            "Episode 280/1000 - Best Score: 53.0 - Epsilon: 0.2000\n",
            "Episode 290/1000 - Best Score: 53.0 - Epsilon: 0.2000\n",
            "Episode 300/1000 - Best Score: 53.0 - Epsilon: 0.2000\n",
            "Episode 310/1000 - Best Score: 53.0 - Epsilon: 0.2000\n",
            "Episode 320/1000 - Best Score: 53.0 - Epsilon: 0.2000\n",
            "Episode 330/1000 - Best Score: 53.0 - Epsilon: 0.2000\n",
            "Episode 340/1000 - Best Score: 53.0 - Epsilon: 0.2000\n",
            "Episode 350/1000 - Best Score: 53.0 - Epsilon: 0.2000\n",
            "Episode 360/1000 - Best Score: 53.0 - Epsilon: 0.2000\n",
            "Episode 370/1000 - Best Score: 53.0 - Epsilon: 0.2000\n",
            "Episode 380/1000 - Best Score: 53.0 - Epsilon: 0.2000\n",
            "Episode 390/1000 - Best Score: 53.0 - Epsilon: 0.2000\n",
            "Episode 400/1000 - Best Score: 53.0 - Epsilon: 0.2000\n",
            "Episode 410/1000 - Best Score: 53.0 - Epsilon: 0.2000\n",
            "Episode 420/1000 - Best Score: 53.0 - Epsilon: 0.2000\n",
            "Episode 430/1000 - Best Score: 53.0 - Epsilon: 0.2000\n",
            "Episode 440/1000 - Best Score: 53.0 - Epsilon: 0.2000\n",
            "Episode 450/1000 - Best Score: 53.0 - Epsilon: 0.2000\n",
            "Episode 460/1000 - Best Score: 53.0 - Epsilon: 0.2000\n",
            "Episode 470/1000 - Best Score: 53.0 - Epsilon: 0.2000\n",
            "Episode 480/1000 - Best Score: 53.0 - Epsilon: 0.2000\n",
            "Episode 490/1000 - Best Score: 53.0 - Epsilon: 0.2000\n",
            "Episode 500/1000 - Best Score: 53.0 - Epsilon: 0.2000\n",
            "Episode 510/1000 - Best Score: 53.0 - Epsilon: 0.2000\n",
            "Episode 520/1000 - Best Score: 53.0 - Epsilon: 0.2000\n",
            "Episode 530/1000 - Best Score: 53.0 - Epsilon: 0.2000\n",
            "Episode 540/1000 - Best Score: 53.0 - Epsilon: 0.2000\n",
            "Episode 550/1000 - Best Score: 53.0 - Epsilon: 0.2000\n",
            "Episode 560/1000 - Best Score: 53.0 - Epsilon: 0.2000\n",
            "Episode 570/1000 - Best Score: 53.0 - Epsilon: 0.2000\n",
            "Episode 580/1000 - Best Score: 53.0 - Epsilon: 0.2000\n",
            "Episode 590/1000 - Best Score: 53.0 - Epsilon: 0.2000\n",
            "Episode 600/1000 - Best Score: 53.0 - Epsilon: 0.2000\n",
            "Episode 610/1000 - Best Score: 53.0 - Epsilon: 0.2000\n",
            "Episode 620/1000 - Best Score: 53.0 - Epsilon: 0.2000\n",
            "Episode 630/1000 - Best Score: 53.0 - Epsilon: 0.2000\n",
            "Episode 640/1000 - Best Score: 53.0 - Epsilon: 0.2000\n",
            "Episode 650/1000 - Best Score: 53.0 - Epsilon: 0.2000\n",
            "Episode 660/1000 - Best Score: 53.0 - Epsilon: 0.2000\n",
            "Episode 670/1000 - Best Score: 53.0 - Epsilon: 0.2000\n",
            "Episode 680/1000 - Best Score: 53.0 - Epsilon: 0.2000\n",
            "Episode 690/1000 - Best Score: 53.0 - Epsilon: 0.2000\n",
            "Episode 700/1000 - Best Score: 53.0 - Epsilon: 0.2000\n",
            "Episode 710/1000 - Best Score: 53.0 - Epsilon: 0.2000\n",
            "Episode 720/1000 - Best Score: 53.0 - Epsilon: 0.2000\n",
            "New best score 54.0 achieved at episode 727. Model saved!\n",
            "Episode 730/1000 - Best Score: 54.0 - Epsilon: 0.2000\n",
            "Episode 740/1000 - Best Score: 54.0 - Epsilon: 0.2000\n",
            "Episode 750/1000 - Best Score: 54.0 - Epsilon: 0.2000\n",
            "Episode 760/1000 - Best Score: 54.0 - Epsilon: 0.2000\n",
            "Episode 770/1000 - Best Score: 54.0 - Epsilon: 0.2000\n",
            "Episode 780/1000 - Best Score: 54.0 - Epsilon: 0.2000\n",
            "Episode 790/1000 - Best Score: 54.0 - Epsilon: 0.2000\n",
            "New best score 69.0 achieved at episode 791. Model saved!\n",
            "New best score 101.0 achieved at episode 795. Model saved!\n",
            "Episode 800/1000 - Best Score: 101.0 - Epsilon: 0.2000\n",
            "New best score 115.0 achieved at episode 806. Model saved!\n",
            "Episode 810/1000 - Best Score: 115.0 - Epsilon: 0.2000\n",
            "Episode 820/1000 - Best Score: 115.0 - Epsilon: 0.2000\n",
            "New best score 122.0 achieved at episode 821. Model saved!\n",
            "Episode 830/1000 - Best Score: 122.0 - Epsilon: 0.2000\n",
            "New best score 182.0 achieved at episode 835. Model saved!\n",
            "Episode 840/1000 - Best Score: 182.0 - Epsilon: 0.2000\n",
            "New best score 200.0 achieved at episode 850. Model saved!\n",
            "Episode 850/1000 - Best Score: 200.0 - Epsilon: 0.2000\n",
            "Episode 860/1000 - Best Score: 200.0 - Epsilon: 0.2000\n",
            "Episode 870/1000 - Best Score: 200.0 - Epsilon: 0.2000\n",
            "Episode 880/1000 - Best Score: 200.0 - Epsilon: 0.2000\n",
            "Episode 890/1000 - Best Score: 200.0 - Epsilon: 0.2000\n",
            "Episode 900/1000 - Best Score: 200.0 - Epsilon: 0.2000\n",
            "Episode 910/1000 - Best Score: 200.0 - Epsilon: 0.2000\n",
            "Episode 920/1000 - Best Score: 200.0 - Epsilon: 0.2000\n",
            "Episode 930/1000 - Best Score: 200.0 - Epsilon: 0.2000\n",
            "Episode 940/1000 - Best Score: 200.0 - Epsilon: 0.2000\n",
            "Episode 950/1000 - Best Score: 200.0 - Epsilon: 0.2000\n",
            "Episode 960/1000 - Best Score: 200.0 - Epsilon: 0.2000\n",
            "Episode 970/1000 - Best Score: 200.0 - Epsilon: 0.2000\n",
            "Episode 980/1000 - Best Score: 200.0 - Epsilon: 0.2000\n",
            "Episode 990/1000 - Best Score: 200.0 - Epsilon: 0.2000\n",
            "Episode 1000/1000 - Best Score: 200.0 - Epsilon: 0.2000\n",
            "Training completed.\n"
          ]
        }
      ]
    },
    {
      "cell_type": "code",
      "source": [
        "env = gym.make(\"CartPole-v1\")\n",
        "state_size = env.observation_space.shape[0]\n",
        "action_size = env.action_space.n\n",
        "\n",
        "seed = 170715\n",
        "best_model_path = \"best_dqn_model.pth\"\n",
        "\n",
        "qnetwork = QNetwork(state_size, action_size, seed).to(device)\n",
        "qnetwork.load_state_dict(torch.load(best_model_path, map_location=device))\n",
        "qnetwork.eval()\n",
        "print(\"Best model loaded successfully.\")\n",
        "\n",
        "def evaluate_agent(qnetwork, env, n_episodes=10, max_steps=200, render=False):\n",
        "    total_rewards = []\n",
        "\n",
        "    for episode in range(1, n_episodes + 1):\n",
        "        state = env.reset()\n",
        "        total_reward = 0\n",
        "\n",
        "        for step in range(max_steps):\n",
        "            if render:\n",
        "                env.render()\n",
        "\n",
        "            state_tensor = torch.from_numpy(state).float().unsqueeze(0).to(device)\n",
        "            with torch.no_grad():\n",
        "                action_values = qnetwork(state_tensor)\n",
        "            action = torch.argmax(action_values, dim=1).item()\n",
        "\n",
        "            next_state, reward, done, _ = env.step(action)\n",
        "            total_reward += reward\n",
        "            state = next_state\n",
        "\n",
        "            if done:\n",
        "                break\n",
        "\n",
        "        total_rewards.append(total_reward)\n",
        "        print(f\"Episode {episode}: Total Reward = {total_reward}\")\n",
        "\n",
        "    avg_reward = np.mean(total_rewards)\n",
        "    print(f\"\\nAverage Reward over {n_episodes} episodes: {avg_reward}\")\n",
        "    return avg_reward, total_rewards"
      ],
      "metadata": {
        "colab": {
          "base_uri": "https://localhost:8080/"
        },
        "id": "TTIcSn3HmYo3",
        "outputId": "13d9f6b9-df4b-4865-fb88-83d961465e59"
      },
      "execution_count": 24,
      "outputs": [
        {
          "output_type": "stream",
          "name": "stdout",
          "text": [
            "Best model loaded successfully.\n"
          ]
        },
        {
          "output_type": "stream",
          "name": "stderr",
          "text": [
            "<ipython-input-24-c83f802bbeff>:9: FutureWarning: You are using `torch.load` with `weights_only=False` (the current default value), which uses the default pickle module implicitly. It is possible to construct malicious pickle data which will execute arbitrary code during unpickling (See https://github.com/pytorch/pytorch/blob/main/SECURITY.md#untrusted-models for more details). In a future release, the default value for `weights_only` will be flipped to `True`. This limits the functions that could be executed during unpickling. Arbitrary objects will no longer be allowed to be loaded via this mode unless they are explicitly allowlisted by the user via `torch.serialization.add_safe_globals`. We recommend you start setting `weights_only=True` for any use case where you don't have full control of the loaded file. Please open an issue on GitHub for any issues related to this experimental feature.\n",
            "  qnetwork.load_state_dict(torch.load(best_model_path, map_location=device))\n"
          ]
        }
      ]
    },
    {
      "cell_type": "code",
      "source": [
        "n_eval_episodes = 50\n",
        "\n",
        "avg_reward, rewards = evaluate_agent(qnetwork, env, n_episodes=n_eval_episodes, render=False)\n",
        "\n",
        "plt.figure(figsize=(10, 5))\n",
        "plt.plot(range(1, n_eval_episodes + 1), rewards, marker='o')\n",
        "plt.title(\"DQN Agent Evaluation\")\n",
        "plt.xlabel(\"Episode\")\n",
        "plt.ylabel(\"Total Reward\")\n",
        "plt.grid(True)\n",
        "plt.show()\n",
        "\n",
        "env.close()"
      ],
      "metadata": {
        "colab": {
          "base_uri": "https://localhost:8080/",
          "height": 1000
        },
        "id": "cllwkHYQh0nr",
        "outputId": "31190fea-367a-4325-ad29-e08a7eaa2878"
      },
      "execution_count": 25,
      "outputs": [
        {
          "output_type": "stream",
          "name": "stdout",
          "text": [
            "Episode 1: Total Reward = 158.0\n",
            "Episode 2: Total Reward = 152.0\n",
            "Episode 3: Total Reward = 160.0\n",
            "Episode 4: Total Reward = 189.0\n",
            "Episode 5: Total Reward = 150.0\n",
            "Episode 6: Total Reward = 178.0\n",
            "Episode 7: Total Reward = 174.0\n",
            "Episode 8: Total Reward = 184.0\n",
            "Episode 9: Total Reward = 162.0\n",
            "Episode 10: Total Reward = 184.0\n",
            "Episode 11: Total Reward = 200.0\n",
            "Episode 12: Total Reward = 184.0\n",
            "Episode 13: Total Reward = 140.0\n",
            "Episode 14: Total Reward = 180.0\n",
            "Episode 15: Total Reward = 182.0\n",
            "Episode 16: Total Reward = 178.0\n",
            "Episode 17: Total Reward = 143.0\n",
            "Episode 18: Total Reward = 188.0\n",
            "Episode 19: Total Reward = 154.0\n",
            "Episode 20: Total Reward = 144.0\n",
            "Episode 21: Total Reward = 152.0\n",
            "Episode 22: Total Reward = 139.0\n",
            "Episode 23: Total Reward = 144.0\n",
            "Episode 24: Total Reward = 145.0\n",
            "Episode 25: Total Reward = 152.0\n",
            "Episode 26: Total Reward = 156.0\n",
            "Episode 27: Total Reward = 181.0\n",
            "Episode 28: Total Reward = 169.0\n",
            "Episode 29: Total Reward = 182.0\n",
            "Episode 30: Total Reward = 163.0\n",
            "Episode 31: Total Reward = 146.0\n",
            "Episode 32: Total Reward = 157.0\n",
            "Episode 33: Total Reward = 140.0\n",
            "Episode 34: Total Reward = 144.0\n",
            "Episode 35: Total Reward = 139.0\n",
            "Episode 36: Total Reward = 200.0\n",
            "Episode 37: Total Reward = 142.0\n",
            "Episode 38: Total Reward = 160.0\n",
            "Episode 39: Total Reward = 146.0\n",
            "Episode 40: Total Reward = 135.0\n",
            "Episode 41: Total Reward = 142.0\n",
            "Episode 42: Total Reward = 170.0\n",
            "Episode 43: Total Reward = 183.0\n",
            "Episode 44: Total Reward = 156.0\n",
            "Episode 45: Total Reward = 196.0\n",
            "Episode 46: Total Reward = 136.0\n",
            "Episode 47: Total Reward = 164.0\n",
            "Episode 48: Total Reward = 187.0\n",
            "Episode 49: Total Reward = 154.0\n",
            "Episode 50: Total Reward = 166.0\n",
            "\n",
            "Average Reward over 50 episodes: 162.6\n"
          ]
        },
        {
          "output_type": "display_data",
          "data": {
            "text/plain": [
              "<Figure size 1000x500 with 1 Axes>"
            ],
            "image/png": "[encoded data removed]"
          },
          "metadata": {}
        }
      ]
    },
    {
      "cell_type": "code",
      "source": [],
      "metadata": {
        "id": "8VV8gq2vqXay"
      },
      "execution_count": null,
      "outputs": []
    }
  ],
  "metadata": {
    "kernelspec": {
      "display_name": "Python 3",
      "name": "python3"
    },
    "language_info": {
      "codemirror_mode": {
        "name": "ipython",
        "version": 3
      },
      "file_extension": ".py",
      "mimetype": "text/x-python",
      "name": "python",
      "nbconvert_exporter": "python",
      "pygments_lexer": "ipython3",
      "version": "3.10.6"
    },
    "orig_nbformat": 4,
    "colab": {
      "provenance": [],
      "gpuType": "T4"
    },
    "accelerator": "GPU"
  },
  "nbformat": 4,
  "nbformat_minor": 0
}